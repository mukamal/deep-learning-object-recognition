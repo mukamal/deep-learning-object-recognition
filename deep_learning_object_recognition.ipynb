{
  "nbformat": 4,
  "nbformat_minor": 0,
  "metadata": {
    "anaconda-cloud": {},
    "colab": {
      "name": "deep_learning_object_recognition.ipynb",
      "provenance": [],
      "collapsed_sections": [],
      "include_colab_link": true
    },
    "kernelspec": {
      "display_name": "Python 3",
      "language": "python",
      "name": "python3"
    },
    "language_info": {
      "codemirror_mode": {
        "name": "ipython",
        "version": 3
      },
      "file_extension": ".py",
      "mimetype": "text/x-python",
      "name": "python",
      "nbconvert_exporter": "python",
      "pygments_lexer": "ipython3",
      "version": "3.6.11"
    },
    "name": "lab_object-recognition-deep-learning",
    "notebookId": 4044428636126148
  },
  "cells": [
    {
      "cell_type": "markdown",
      "metadata": {
        "id": "view-in-github",
        "colab_type": "text"
      },
      "source": [
        "<a href=\"https://colab.research.google.com/github/mukamal/deep-learning-object-recognition/blob/main/deep_learning_object_recognition.ipynb\" target=\"_parent\"><img src=\"https://colab.research.google.com/assets/colab-badge.svg\" alt=\"Open In Colab\"/></a>"
      ]
    },
    {
      "cell_type": "markdown",
      "metadata": {
        "id": "9TL5TClVi2yE"
      },
      "source": [
        "# Object recognition with deep learning"
      ]
    },
    {
      "cell_type": "markdown",
      "metadata": {
        "id": "Aj-GmOjBjClK"
      },
      "source": [
        "If running on Google colab, the following cell installs pyspark"
      ]
    },
    {
      "cell_type": "code",
      "metadata": {
        "id": "GWdEr1cNi-tm",
        "colab": {
          "base_uri": "https://localhost:8080/"
        },
        "outputId": "10d4252f-f918-45cb-f558-540b9a05bbf6"
      },
      "source": [
        "# if running on Google colab\n",
        "if 'google.colab' in str(get_ipython()):\n",
        "  !pip install pyspark"
      ],
      "execution_count": null,
      "outputs": [
        {
          "output_type": "stream",
          "text": [
            "Requirement already satisfied: pyspark in /usr/local/lib/python3.7/dist-packages (3.1.1)\n",
            "Requirement already satisfied: py4j==0.10.9 in /usr/local/lib/python3.7/dist-packages (from pyspark) (0.10.9)\n"
          ],
          "name": "stdout"
        }
      ]
    },
    {
      "cell_type": "markdown",
      "metadata": {
        "id": "tP0C07-Di2yO"
      },
      "source": [
        "Load preliminary packages and launch a Spark connection"
      ]
    },
    {
      "cell_type": "code",
      "metadata": {
        "id": "KPCq62_Xi2yP"
      },
      "source": [
        "from pyspark.sql import SparkSession\n",
        "from pyspark.ml import feature\n",
        "from pyspark.ml import classification\n",
        "from pyspark.sql import functions as fn\n",
        "from pyspark.ml import Pipeline\n",
        "from pyspark.ml.evaluation import BinaryClassificationEvaluator, \\\n",
        "    MulticlassClassificationEvaluator, \\\n",
        "    RegressionEvaluator\n",
        "from pyspark.ml.tuning import CrossValidator, ParamGridBuilder\n",
        "from pyspark.ml.linalg import DenseVector\n",
        "import matplotlib.pyplot as plt\n",
        "import seaborn as sns\n",
        "import pandas as pd\n",
        "import numpy as np\n",
        "import os\n",
        "import subprocess\n",
        "from pyspark.sql import SparkSession\n",
        "import glob\n",
        "\n",
        "spark = SparkSession.builder.master(\"local\").appName(\"MLP Demo\").config(\"spark.master\", \"local[*]\").getOrCreate()\n",
        "sc = spark.sparkContext\n",
        "\n",
        "%matplotlib inline"
      ],
      "execution_count": null,
      "outputs": []
    },
    {
      "cell_type": "markdown",
      "metadata": {
        "id": "TaHpmcALi2yT"
      },
      "source": [
        "# Utility Functions\n",
        "Define a utility functions needed to display images."
      ]
    },
    {
      "cell_type": "code",
      "metadata": {
        "id": "GlFrQBVgi2yU"
      },
      "source": [
        "# utility function to display the first element of a Spark dataframe as an image\n",
        "def display_first_as_img(df):\n",
        "    plt.imshow(df.first().raw_pixels.toArray().reshape([60,40]), 'gray', aspect=0.5);\n",
        "    display()"
      ],
      "execution_count": null,
      "outputs": []
    },
    {
      "cell_type": "markdown",
      "metadata": {
        "id": "dJZNQiNvi2yd"
      },
      "source": [
        "# Read the data"
      ]
    },
    {
      "cell_type": "markdown",
      "metadata": {
        "id": "OYDjufWSsl67"
      },
      "source": [
        "If running on Google colab, the following cell prompts the user to upload the credit score data file."
      ]
    },
    {
      "cell_type": "code",
      "metadata": {
        "id": "NQGPSxtisbNU",
        "colab": {
          "resources": {
            "http://localhost:8080/nbextensions/google.colab/files.js": {
              "data": "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",
              "ok": true,
              "headers": [
                [
                  "content-type",
                  "application/javascript"
                ]
              ],
              "status": 200,
              "status_text": ""
            }
          },
          "base_uri": "https://localhost:8080/",
          "height": 73
        },
        "outputId": "258fcbe9-b420-4c44-8ae9-803019b712c2"
      },
      "source": [
        "# read the data file\n",
        "# if running on Google Colab\n",
        "if 'google.colab' in str(get_ipython()):\n",
        "  # ask the user to upload the file\n",
        "  from google.colab import files\n",
        "  files.upload()"
      ],
      "execution_count": null,
      "outputs": [
        {
          "output_type": "display_data",
          "data": {
            "text/html": [
              "\n",
              "     <input type=\"file\" id=\"files-cba3e032-669d-45dc-8b50-ebcc32762d25\" name=\"files[]\" multiple disabled\n",
              "        style=\"border:none\" />\n",
              "     <output id=\"result-cba3e032-669d-45dc-8b50-ebcc32762d25\">\n",
              "      Upload widget is only available when the cell has been executed in the\n",
              "      current browser session. Please rerun this cell to enable.\n",
              "      </output>\n",
              "      <script src=\"/nbextensions/google.colab/files.js\"></script> "
            ],
            "text/plain": [
              "<IPython.core.display.HTML object>"
            ]
          },
          "metadata": {
            "tags": []
          }
        },
        {
          "output_type": "stream",
          "text": [
            "Saving caltech.parq to caltech.parq\n"
          ],
          "name": "stdout"
        }
      ]
    },
    {
      "cell_type": "code",
      "metadata": {
        "id": "HX2podv2lY67"
      },
      "source": [
        "# load the file\n",
        "caltech101_df = spark.read.parquet('caltech.parq')"
      ],
      "execution_count": null,
      "outputs": []
    },
    {
      "cell_type": "markdown",
      "metadata": {
        "id": "uTGPbdKNi2yg"
      },
      "source": [
        "The dataframe contains images from the [Caltech 101 dataset](https://www.vision.caltech.edu/Image_Datasets/Caltech101/). These images have been downsized and transformed to gray scale. Let's look at the content of the dataset:"
      ]
    },
    {
      "cell_type": "code",
      "metadata": {
        "colab": {
          "base_uri": "https://localhost:8080/"
        },
        "id": "jbCkz-P0i2yh",
        "scrolled": true,
        "outputId": "560ab367-cda9-4671-fee9-b81c2688262b"
      },
      "source": [
        "caltech101_df.printSchema()"
      ],
      "execution_count": null,
      "outputs": [
        {
          "output_type": "stream",
          "text": [
            "root\n",
            " |-- category: string (nullable = true)\n",
            " |-- filename: string (nullable = true)\n",
            " |-- raw_pixels: array (nullable = true)\n",
            " |    |-- element: double (containsNull = true)\n",
            "\n"
          ],
          "name": "stdout"
        }
      ]
    },
    {
      "cell_type": "markdown",
      "metadata": {
        "id": "S7ALqEpAi2yk"
      },
      "source": [
        "The following cells convert the pixel arrays into dense vectors to be compatible with spark maching learning."
      ]
    },
    {
      "cell_type": "code",
      "metadata": {
        "id": "H9jSLn2Oi2yl"
      },
      "source": [
        "catltech_rdd = caltech101_df.rdd"
      ],
      "execution_count": null,
      "outputs": []
    },
    {
      "cell_type": "code",
      "metadata": {
        "id": "KQzcC54ji2yo"
      },
      "source": [
        "caltech101_df = catltech_rdd.map(lambda x: (x[0],x[1],DenseVector(x[2]),)).toDF(['category','filename','raw_pixels'])"
      ],
      "execution_count": null,
      "outputs": []
    },
    {
      "cell_type": "markdown",
      "metadata": {
        "id": "ZigDrqwMi2yq"
      },
      "source": [
        "The column `raw_pixels` contains a flattened version of the 60 by 40 images. The dataset has 101 categories plus 1  distracting category:"
      ]
    },
    {
      "cell_type": "code",
      "metadata": {
        "colab": {
          "base_uri": "https://localhost:8080/"
        },
        "id": "M_qxzyfTi2yq",
        "outputId": "84584138-564b-4f06-b82e-3e080a3ca6db"
      },
      "source": [
        "caltech101_df.select(fn.countDistinct('category')).show()"
      ],
      "execution_count": null,
      "outputs": [
        {
          "output_type": "stream",
          "text": [
            "+------------------------+\n",
            "|count(DISTINCT category)|\n",
            "+------------------------+\n",
            "|                     102|\n",
            "+------------------------+\n",
            "\n"
          ],
          "name": "stdout"
        }
      ]
    },
    {
      "cell_type": "markdown",
      "metadata": {
        "id": "9NxK3Pcpi2ys"
      },
      "source": [
        "The number of examples for each category is not balanced. For example the _airplanes_ and _motorbikes_ categories have nearly 10 times more examples than kangaroo and starfish:"
      ]
    },
    {
      "cell_type": "code",
      "metadata": {
        "colab": {
          "base_uri": "https://localhost:8080/"
        },
        "id": "fYSilZhIi2yt",
        "outputId": "7c09819d-e7da-454a-9d5c-1bdca789470a"
      },
      "source": [
        "caltech101_df.groupby('category').agg(fn.count('*').alias('n_images')).orderBy(fn.desc('n_images')).show()"
      ],
      "execution_count": null,
      "outputs": [
        {
          "output_type": "stream",
          "text": [
            "+-----------------+--------+\n",
            "|         category|n_images|\n",
            "+-----------------+--------+\n",
            "|        airplanes|     800|\n",
            "|       Motorbikes|     798|\n",
            "|BACKGROUND_Google|     468|\n",
            "|       Faces_easy|     435|\n",
            "|            Faces|     435|\n",
            "|            watch|     239|\n",
            "|         Leopards|     200|\n",
            "|           bonsai|     128|\n",
            "|         car_side|     123|\n",
            "|            ketch|     114|\n",
            "|       chandelier|     107|\n",
            "|        hawksbill|     100|\n",
            "|      grand_piano|      99|\n",
            "|            brain|      98|\n",
            "|        butterfly|      91|\n",
            "|       helicopter|      88|\n",
            "|          menorah|      87|\n",
            "|         starfish|      86|\n",
            "|        trilobite|      86|\n",
            "|         kangaroo|      86|\n",
            "+-----------------+--------+\n",
            "only showing top 20 rows\n",
            "\n"
          ],
          "name": "stdout"
        }
      ]
    },
    {
      "cell_type": "markdown",
      "metadata": {
        "id": "6T4Gc53Wi2yw"
      },
      "source": [
        "We will use the helper function `display_first_as_img` to display some images on the notebook. This function takes the first row of the dataframe and displays the `raw_pixels` as an image."
      ]
    },
    {
      "cell_type": "code",
      "metadata": {
        "colab": {
          "base_uri": "https://localhost:8080/",
          "height": 268
        },
        "id": "O49qirwki2yw",
        "outputId": "d24d86bd-5e00-4b87-d363-80edfdcb33c4"
      },
      "source": [
        "display_first_as_img(caltech101_df.where(fn.col('category') == \"Motorbikes\").sample(True, 0.1))"
      ],
      "execution_count": null,
      "outputs": [
        {
          "output_type": "display_data",
          "data": {
            "image/png": "[encoded data removed]",
            "text/plain": [
              "<Figure size 432x288 with 1 Axes>"
            ]
          },
          "metadata": {
            "tags": [],
            "needs_background": "light"
          }
        }
      ]
    },
    {
      "cell_type": "code",
      "metadata": {
        "colab": {
          "base_uri": "https://localhost:8080/",
          "height": 268
        },
        "id": "SMO1oUAni2yy",
        "outputId": "56f89356-2af9-48a2-e69a-5865905e4e59"
      },
      "source": [
        "display_first_as_img(caltech101_df.where(fn.col('category') == \"Faces_easy\").sample(True, 0.5))"
      ],
      "execution_count": null,
      "outputs": [
        {
          "output_type": "display_data",
          "data": {
            "image/png": "[encoded data removed]",
            "text/plain": [
              "<Figure size 432x288 with 1 Axes>"
            ]
          },
          "metadata": {
            "tags": [],
            "needs_background": "light"
          }
        }
      ]
    },
    {
      "cell_type": "code",
      "metadata": {
        "colab": {
          "base_uri": "https://localhost:8080/",
          "height": 268
        },
        "id": "F_OcdT_ni2y1",
        "outputId": "4eb9e0b6-3868-4ff4-db33-a203bd548f53"
      },
      "source": [
        "display_first_as_img(caltech101_df.where(fn.col('category') == \"airplanes\").sample(True, 1.))"
      ],
      "execution_count": null,
      "outputs": [
        {
          "output_type": "display_data",
          "data": {
            "image/png": "[encoded data removed]",
            "text/plain": [
              "<Figure size 432x288 with 1 Axes>"
            ]
          },
          "metadata": {
            "tags": [],
            "needs_background": "light"
          }
        }
      ]
    },
    {
      "cell_type": "markdown",
      "metadata": {
        "collapsed": true,
        "id": "RPt-A3xmi2y3"
      },
      "source": [
        "## Multilayer perceptron in SparkML"
      ]
    },
    {
      "cell_type": "markdown",
      "metadata": {
        "id": "JjQnwuVni2y4"
      },
      "source": [
        "In this notebook, we will use the multilayer perceptron as a learning model. Our idea is to take the raw pixels of an image and predict the category of such an image. This is therefore a classification problem. A multilayer perceptron for classification is [available in Spark ML](http://spark.apache.org/docs/latest/ml-classification-regression.html#multilayer-perceptron-classifier)."
      ]
    },
    {
      "cell_type": "markdown",
      "metadata": {
        "id": "TLBN3emYi2y5"
      },
      "source": [
        "We will focus on only three categories: airplanes, faces (easy), and motorbikes. We will split the dataset into training, validation, and testing as usual:"
      ]
    },
    {
      "cell_type": "code",
      "metadata": {
        "id": "iuWFOjD4i2y5"
      },
      "source": [
        "training_df, validation_df, testing_df = caltech101_df.\\\n",
        "    where(fn.col('category').isin(['airplanes', 'Faces_easy', 'Motorbikes'])).\\\n",
        "    randomSplit([0.6, 0.2, 0.2], seed=0)"
      ],
      "execution_count": null,
      "outputs": []
    },
    {
      "cell_type": "code",
      "metadata": {
        "colab": {
          "base_uri": "https://localhost:8080/"
        },
        "id": "N33eK8v5i2y7",
        "outputId": "a434b16c-4ad8-4254-b90c-419281066721"
      },
      "source": [
        "[training_df.count(), validation_df.count(), testing_df.count()]"
      ],
      "execution_count": null,
      "outputs": [
        {
          "output_type": "execute_result",
          "data": {
            "text/plain": [
              "[1199, 404, 430]"
            ]
          },
          "metadata": {
            "tags": []
          },
          "execution_count": 19
        }
      ]
    },
    {
      "cell_type": "markdown",
      "metadata": {
        "id": "bHCXb8X1i2y-"
      },
      "source": [
        "It is important to check the distribution of cateogires in the validation and testing dataframes to see if they have a similar distribution as the training dataset:"
      ]
    },
    {
      "cell_type": "code",
      "metadata": {
        "colab": {
          "base_uri": "https://localhost:8080/"
        },
        "id": "eWg3U99-i2y-",
        "outputId": "5b696c78-143f-4e17-bb06-2c15f14659b3"
      },
      "source": [
        "validation_df.groupBy('category').agg(fn.count('*')).show()\n",
        "testing_df.groupBy('category').agg(fn.count('*')).show()"
      ],
      "execution_count": null,
      "outputs": [
        {
          "output_type": "stream",
          "text": [
            "+----------+--------+\n",
            "|  category|count(1)|\n",
            "+----------+--------+\n",
            "|Motorbikes|     154|\n",
            "|Faces_easy|      79|\n",
            "| airplanes|     171|\n",
            "+----------+--------+\n",
            "\n",
            "+----------+--------+\n",
            "|  category|count(1)|\n",
            "+----------+--------+\n",
            "|Motorbikes|     183|\n",
            "|Faces_easy|      86|\n",
            "| airplanes|     161|\n",
            "+----------+--------+\n",
            "\n"
          ],
          "name": "stdout"
        }
      ]
    },
    {
      "cell_type": "markdown",
      "metadata": {
        "id": "UOFb1X28i2zB"
      },
      "source": [
        "They are similar."
      ]
    },
    {
      "cell_type": "markdown",
      "metadata": {
        "id": "qif6KRi1i2zB"
      },
      "source": [
        "## Transforming string labels into numerical labels"
      ]
    },
    {
      "cell_type": "markdown",
      "metadata": {
        "id": "3fF0ce9ki2zC"
      },
      "source": [
        "To use a multilayer perceptron, we first need to transform the input data to be fitted by Spark ML. One of the things that Spark ML needs is a numerical representation of the category (`label` as they call it). In our case, we only have a string representation of such category. The [`StringIndexer`](http://spark.apache.org/docs/latest/ml-features.html#stringindexer) is used to convert the labels to numeric categories.\n",
        "\n",
        "We first need to fit the estimator to the data so that it learns the distribution of labels:"
      ]
    },
    {
      "cell_type": "code",
      "metadata": {
        "id": "eIuchTBui2zC"
      },
      "source": [
        "from pyspark.ml import feature"
      ],
      "execution_count": null,
      "outputs": []
    },
    {
      "cell_type": "code",
      "metadata": {
        "id": "Y2mdcZiji2zE"
      },
      "source": [
        "category_to_number_model = feature.StringIndexer(inputCol='category', outputCol='label').\\\n",
        "    fit(training_df)"
      ],
      "execution_count": null,
      "outputs": []
    },
    {
      "cell_type": "code",
      "metadata": {
        "id": "XekVKGFW9u-g",
        "colab": {
          "base_uri": "https://localhost:8080/"
        },
        "outputId": "c3ee1b53-23bf-4042-af6e-3816a895f868"
      },
      "source": [
        "category_to_number_model.transform(training_df).show()"
      ],
      "execution_count": null,
      "outputs": [
        {
          "output_type": "stream",
          "text": [
            "+----------+--------------+--------------------+-----+\n",
            "|  category|      filename|          raw_pixels|label|\n",
            "+----------+--------------+--------------------+-----+\n",
            "|Faces_easy|image_0002.jpg|[132.0,54.0,127.0...|  2.0|\n",
            "|Faces_easy|image_0003.jpg|[251.0,250.0,250....|  2.0|\n",
            "|Faces_easy|image_0004.jpg|[56.0,84.0,54.0,5...|  2.0|\n",
            "|Faces_easy|image_0006.jpg|[231.0,237.0,223....|  2.0|\n",
            "|Faces_easy|image_0007.jpg|[122.0,128.0,131....|  2.0|\n",
            "|Faces_easy|image_0008.jpg|[32.0,64.0,65.0,6...|  2.0|\n",
            "|Faces_easy|image_0010.jpg|[151.0,154.0,161....|  2.0|\n",
            "|Faces_easy|image_0011.jpg|[51.0,52.0,53.0,5...|  2.0|\n",
            "|Faces_easy|image_0013.jpg|[254.0,221.0,110....|  2.0|\n",
            "|Faces_easy|image_0014.jpg|[149.0,150.0,156....|  2.0|\n",
            "|Faces_easy|image_0015.jpg|[220.0,199.0,194....|  2.0|\n",
            "|Faces_easy|image_0016.jpg|[248.0,237.0,193....|  2.0|\n",
            "|Faces_easy|image_0017.jpg|[27.0,31.0,45.0,4...|  2.0|\n",
            "|Faces_easy|image_0018.jpg|[152.0,155.0,153....|  2.0|\n",
            "|Faces_easy|image_0020.jpg|[175.0,175.0,176....|  2.0|\n",
            "|Faces_easy|image_0023.jpg|[39.0,26.0,21.0,3...|  2.0|\n",
            "|Faces_easy|image_0024.jpg|[165.0,114.0,66.0...|  2.0|\n",
            "|Faces_easy|image_0025.jpg|[93.0,92.0,92.0,9...|  2.0|\n",
            "|Faces_easy|image_0027.jpg|[43.0,66.0,59.0,6...|  2.0|\n",
            "|Faces_easy|image_0028.jpg|[145.0,146.0,151....|  2.0|\n",
            "+----------+--------------+--------------------+-----+\n",
            "only showing top 20 rows\n",
            "\n"
          ],
          "name": "stdout"
        }
      ]
    },
    {
      "cell_type": "markdown",
      "metadata": {
        "id": "WCXkczHYi2zH"
      },
      "source": [
        "Now, we can see how it transforms the category into a `label`:"
      ]
    },
    {
      "cell_type": "markdown",
      "metadata": {
        "id": "b5STmdASi2zJ"
      },
      "source": [
        "There are the categories found the estimator:"
      ]
    },
    {
      "cell_type": "code",
      "metadata": {
        "colab": {
          "base_uri": "https://localhost:8080/"
        },
        "id": "_lSEHclni2zK",
        "outputId": "dc416566-c4aa-42f8-8788-1adb29fd307c"
      },
      "source": [
        "list(enumerate(category_to_number_model.labels))"
      ],
      "execution_count": null,
      "outputs": [
        {
          "output_type": "execute_result",
          "data": {
            "text/plain": [
              "[(0, 'airplanes'), (1, 'Motorbikes'), (2, 'Faces_easy')]"
            ]
          },
          "metadata": {
            "tags": []
          },
          "execution_count": 24
        }
      ]
    },
    {
      "cell_type": "markdown",
      "metadata": {
        "id": "68J5Gkwyi2zM"
      },
      "source": [
        "## Multi-layer perceptron"
      ]
    },
    {
      "cell_type": "markdown",
      "metadata": {
        "id": "D6gooBjAi2zN"
      },
      "source": [
        "The multi-layer perceptron will take the inputs as a flattened list of pixels and it will have three output neurons, each representing a label:"
      ]
    },
    {
      "cell_type": "code",
      "metadata": {
        "id": "Qc7JPOyCi2zN"
      },
      "source": [
        "from pyspark.ml import classification"
      ],
      "execution_count": null,
      "outputs": []
    },
    {
      "cell_type": "code",
      "metadata": {
        "id": "FH-TPE30i2zQ"
      },
      "source": [
        "mlp = classification.MultilayerPerceptronClassifier(seed=0).\\\n",
        "    setStepSize(0.2).\\\n",
        "    setMaxIter(200).\\\n",
        "    setFeaturesCol('raw_pixels')"
      ],
      "execution_count": null,
      "outputs": []
    },
    {
      "cell_type": "markdown",
      "metadata": {
        "id": "X2gzBcOZi2zT"
      },
      "source": [
        "The parameter `stepSize` is the learning rate for stochastic gradient descent and we set the maximum number of stochastic gradient descent epochs to 200."
      ]
    },
    {
      "cell_type": "markdown",
      "metadata": {
        "id": "cPX6DZIUi2zT"
      },
      "source": [
        "Now, to define the layers, the multilayer perceptron needs to receive the number of neurons of each intermediate layer (hidden layers).\n",
        "\n",
        "If we don't have hidden layers and the activation function is sigmoid, then the model is simply logistic regression. In this case, it will be logistic regression for multiple outputs."
      ]
    },
    {
      "cell_type": "markdown",
      "metadata": {
        "id": "In9Ui_Rqi2zU"
      },
      "source": [
        "For this case, the number of input neurons will be equal to the number of pixels (60*40) and the output will be equal to the categories in the dataset:"
      ]
    },
    {
      "cell_type": "code",
      "metadata": {
        "id": "805qsR4fi2zU"
      },
      "source": [
        "mlp = mlp.setLayers([60*40, 3])"
      ],
      "execution_count": null,
      "outputs": []
    },
    {
      "cell_type": "markdown",
      "metadata": {
        "id": "gz8E_wf1i2zW"
      },
      "source": [
        "Now, we are ready to fit this simple multi-class logistic regression to the data. We need to create a pipeline that will take the training data, transform the category column, and apply the perceptron."
      ]
    },
    {
      "cell_type": "code",
      "metadata": {
        "id": "9NBDCiv4i2zX"
      },
      "source": [
        "from pyspark.ml import Pipeline"
      ],
      "execution_count": null,
      "outputs": []
    },
    {
      "cell_type": "code",
      "metadata": {
        "id": "qdXciKYGi2zZ"
      },
      "source": [
        "mlp_simple_model = Pipeline(stages=[category_to_number_model, mlp]).fit(training_df)"
      ],
      "execution_count": null,
      "outputs": []
    },
    {
      "cell_type": "markdown",
      "metadata": {
        "id": "STUt1oPvi2zb"
      },
      "source": [
        "Now we can apply the model to the validation data to do some simple tests:"
      ]
    },
    {
      "cell_type": "code",
      "metadata": {
        "colab": {
          "base_uri": "https://localhost:8080/"
        },
        "id": "shE_QDGSi2zb",
        "outputId": "364f0620-ccf0-4de1-c87c-3da4a0cce611"
      },
      "source": [
        "mlp_simple_model.transform(validation_df).show(10)"
      ],
      "execution_count": null,
      "outputs": [
        {
          "output_type": "stream",
          "text": [
            "+----------+--------------+--------------------+-----+--------------------+--------------------+----------+\n",
            "|  category|      filename|          raw_pixels|label|       rawPrediction|         probability|prediction|\n",
            "+----------+--------------+--------------------+-----+--------------------+--------------------+----------+\n",
            "|Faces_easy|image_0001.jpg|[184.0,60.0,188.0...|  2.0|[-17.561090459505...|[3.37893244938922...|       2.0|\n",
            "|Faces_easy|image_0005.jpg|[121.0,200.0,161....|  2.0|[-6.5146068301398...|[2.63754966385171...|       2.0|\n",
            "|Faces_easy|image_0009.jpg|[166.0,170.0,166....|  2.0|[-36.337098355196...|[3.80317722927661...|       2.0|\n",
            "|Faces_easy|image_0012.jpg|[237.0,239.0,238....|  2.0|[-173.34944025552...|[1.72886989296949...|       2.0|\n",
            "|Faces_easy|image_0019.jpg|[101.0,102.0,99.0...|  2.0|[-44.453647914428...|[4.18407983319530...|       2.0|\n",
            "|Faces_easy|image_0026.jpg|[175.0,181.0,179....|  2.0|[49.4254351346254...|[2.47444978290601...|       2.0|\n",
            "|Faces_easy|image_0032.jpg|[161.0,160.0,160....|  2.0|[-10.933168116304...|[7.22866708812800...|       2.0|\n",
            "|Faces_easy|image_0034.jpg|[82.0,79.0,80.0,7...|  2.0|[50.0266954614865...|[2.44393479136178...|       2.0|\n",
            "|Faces_easy|image_0042.jpg|[120.0,117.0,111....|  2.0|[11.9368375617059...|[7.90829520528003...|       2.0|\n",
            "|Faces_easy|image_0043.jpg|[102.0,101.0,99.0...|  2.0|[82.7023376990291...|[1.16364014989301...|       2.0|\n",
            "+----------+--------------+--------------------+-----+--------------------+--------------------+----------+\n",
            "only showing top 10 rows\n",
            "\n"
          ],
          "name": "stdout"
        }
      ]
    },
    {
      "cell_type": "markdown",
      "metadata": {
        "id": "g5B1zVxni2ze"
      },
      "source": [
        "As we can see, the label and prediction mostly coincides."
      ]
    },
    {
      "cell_type": "markdown",
      "metadata": {
        "id": "7Jb2KjsTi2ze"
      },
      "source": [
        "We can be more systematic by computing the accuracy of the prediction:"
      ]
    },
    {
      "cell_type": "code",
      "metadata": {
        "colab": {
          "base_uri": "https://localhost:8080/"
        },
        "id": "YKMstt7gi2zf",
        "scrolled": true,
        "outputId": "b5348658-4c34-450e-99ba-0b9c1968c816"
      },
      "source": [
        "mlp_simple_model.transform(validation_df).select(fn.expr('avg(float(label=prediction))').alias('accuracy')).show()"
      ],
      "execution_count": null,
      "outputs": [
        {
          "output_type": "stream",
          "text": [
            "+------------------+\n",
            "|          accuracy|\n",
            "+------------------+\n",
            "|0.9257425742574258|\n",
            "+------------------+\n",
            "\n"
          ],
          "name": "stdout"
        }
      ]
    },
    {
      "cell_type": "markdown",
      "metadata": {
        "id": "Lrr0v86oi2zh"
      },
      "source": [
        "Alternatively, we can take advantage of the [evaluators shipped with Spark ML](https://spark.apache.org/docs/latest/mllib-evaluation-metrics.html) as follows:"
      ]
    },
    {
      "cell_type": "code",
      "metadata": {
        "id": "8UIRH2iUi2zh"
      },
      "source": [
        "from pyspark.ml import evaluation\n",
        "evaluator = evaluation.MulticlassClassificationEvaluator(metricName=\"accuracy\")"
      ],
      "execution_count": null,
      "outputs": []
    },
    {
      "cell_type": "code",
      "metadata": {
        "colab": {
          "base_uri": "https://localhost:8080/"
        },
        "id": "bCrHjxeAi2zj",
        "outputId": "cff7e752-e53c-4b56-b7e3-65f4d8d4908f"
      },
      "source": [
        "evaluator.evaluate(mlp_simple_model.transform(validation_df))"
      ],
      "execution_count": null,
      "outputs": [
        {
          "output_type": "execute_result",
          "data": {
            "text/plain": [
              "0.9257425742574258"
            ]
          },
          "metadata": {
            "tags": []
          },
          "execution_count": 33
        }
      ]
    },
    {
      "cell_type": "markdown",
      "metadata": {
        "id": "NND5dynmi2zl"
      },
      "source": [
        "Which gives us the same number as before."
      ]
    },
    {
      "cell_type": "markdown",
      "metadata": {
        "id": "j2_ojOKki2zm"
      },
      "source": [
        "## More layers (warning: this will take a long time)"
      ]
    },
    {
      "cell_type": "markdown",
      "metadata": {
        "id": "54ZrGCMSi2zn"
      },
      "source": [
        "Now, let's see if we add one hidden layer, which adds non-linearity and interactions to the input. The definition will be similar, but we need to define how many hidden layers and how many neurons per hiden layer. This is a field of its own and we can use cross validation to see which direction is better. However, for now, we will only add one hidden layer, and play with the number of neurons."
      ]
    },
    {
      "cell_type": "markdown",
      "metadata": {
        "id": "2shCkZXri2zn"
      },
      "source": [
        "Let's define a Multilayer Perceptron (MLP) with 1 hidden layer with 100 neurons:"
      ]
    },
    {
      "cell_type": "code",
      "metadata": {
        "id": "q3MnS_hNi2zn"
      },
      "source": [
        "mlp2 = classification.MultilayerPerceptronClassifier(seed=0).\\\n",
        "    setStepSize(0.2).\\\n",
        "    setMaxIter(200).\\\n",
        "    setFeaturesCol('raw_pixels').\\\n",
        "    setLayers([60*40, 100, 3])"
      ],
      "execution_count": null,
      "outputs": []
    },
    {
      "cell_type": "markdown",
      "metadata": {
        "id": "rkJuhm4Qi2zp"
      },
      "source": [
        "Now, __fitting this model will take significantly more time because we are adding 2 orders of magnitude more parameters than the previous model__:"
      ]
    },
    {
      "cell_type": "code",
      "metadata": {
        "id": "C4E3zQYFi2zq"
      },
      "source": [
        "mlp2_model = Pipeline(stages=[category_to_number_model, mlp2]).fit(training_df)"
      ],
      "execution_count": null,
      "outputs": []
    },
    {
      "cell_type": "markdown",
      "metadata": {
        "id": "2hqLPrKbi2zs"
      },
      "source": [
        "But the model is significantly more powerful and fits the data better:"
      ]
    },
    {
      "cell_type": "code",
      "metadata": {
        "colab": {
          "base_uri": "https://localhost:8080/"
        },
        "id": "PlLF4S_3i2zs",
        "outputId": "40763ba8-407a-4385-f5eb-3ca69373d415"
      },
      "source": [
        "evaluator.evaluate(mlp2_model.transform(validation_df))"
      ],
      "execution_count": null,
      "outputs": [
        {
          "output_type": "execute_result",
          "data": {
            "text/plain": [
              "0.9381188118811881"
            ]
          },
          "metadata": {
            "tags": []
          },
          "execution_count": 36
        }
      ]
    },
    {
      "cell_type": "markdown",
      "metadata": {
        "id": "6JIUplP6i2zu"
      },
      "source": [
        "# Complexity of the model with more data (warning: this will take a long time)"
      ]
    },
    {
      "cell_type": "markdown",
      "metadata": {
        "id": "MbOcx2rvi2zu"
      },
      "source": [
        "We will evaluate how the multilayer percetron learns"
      ]
    },
    {
      "cell_type": "markdown",
      "metadata": {
        "id": "CBslD9GJi2zv"
      },
      "source": [
        "Let's evaluate how the performance changes with 1) the amount of training data and 2) the number of neurons in the hidden layer"
      ]
    },
    {
      "cell_type": "code",
      "metadata": {
        "colab": {
          "base_uri": "https://localhost:8080/"
        },
        "id": "1VVwZlZqi2zv",
        "scrolled": true,
        "outputId": "e53a6d29-9fbb-4ca5-e1ba-99d177d87a4b"
      },
      "source": [
        "evaluation_info = []\n",
        "\n",
        "for training_size in [0.1, 0.5, 1.]:\n",
        "    for n_neurons in [1, 3, 10, 20]:\n",
        "        print(\"Training size: \", training_size, \"; # Neurons: \", n_neurons)\n",
        "        training_sample_df = training_df.sample(False, training_size, seed=0)\n",
        "        mlp_template = classification.MultilayerPerceptronClassifier(seed=0).\\\n",
        "            setStepSize(0.2).\\\n",
        "            setMaxIter(200).\\\n",
        "            setFeaturesCol('raw_pixels').\\\n",
        "            setLayers([60*40, n_neurons, 3])\n",
        "        mlp_template_model = Pipeline(stages=[category_to_number_model, mlp_template]).fit(training_sample_df)\n",
        "        # append training performance\n",
        "        evaluation_info.append({'dataset': 'training', \n",
        "                                'training_size': training_size,\n",
        "                                'n_neurons': n_neurons,\n",
        "                                'accuracy': evaluator.evaluate(mlp_template_model.transform(training_sample_df))})\n",
        "        evaluation_info.append({'dataset': 'validation', \n",
        "                                'training_size': training_size,\n",
        "                                'n_neurons': n_neurons,\n",
        "                                'accuracy': evaluator.evaluate(mlp_template_model.transform(validation_df))})"
      ],
      "execution_count": null,
      "outputs": [
        {
          "output_type": "stream",
          "text": [
            "Training size:  0.1 ; # Neurons:  1\n",
            "Training size:  0.1 ; # Neurons:  3\n",
            "Training size:  0.1 ; # Neurons:  10\n",
            "Training size:  0.1 ; # Neurons:  20\n",
            "Training size:  0.5 ; # Neurons:  1\n",
            "Training size:  0.5 ; # Neurons:  3\n",
            "Training size:  0.5 ; # Neurons:  10\n",
            "Training size:  0.5 ; # Neurons:  20\n",
            "Training size:  1.0 ; # Neurons:  1\n",
            "Training size:  1.0 ; # Neurons:  3\n",
            "Training size:  1.0 ; # Neurons:  10\n",
            "Training size:  1.0 ; # Neurons:  20\n"
          ],
          "name": "stdout"
        }
      ]
    },
    {
      "cell_type": "markdown",
      "metadata": {
        "id": "TfEcHu3Fi2zx"
      },
      "source": [
        "You to understand the interaction between number of hidden layer neurons and training data size:"
      ]
    },
    {
      "cell_type": "code",
      "metadata": {
        "id": "43BTu0Ygi2zy"
      },
      "source": [
        "import pandas as pd"
      ],
      "execution_count": null,
      "outputs": []
    },
    {
      "cell_type": "code",
      "metadata": {
        "colab": {
          "base_uri": "https://localhost:8080/"
        },
        "id": "znzqTC2ji2z1",
        "outputId": "d3a693b8-85c7-4e8e-b4fe-73a46bb3b275"
      },
      "source": [
        "evaluation_df = pd.DataFrame(evaluation_info)\n",
        "evaluation_df"
      ],
      "execution_count": null,
      "outputs": [
        {
          "output_type": "execute_result",
          "data": {
            "text/html": [
              "<div>\n",
              "<style scoped>\n",
              "    .dataframe tbody tr th:only-of-type {\n",
              "        vertical-align: middle;\n",
              "    }\n",
              "\n",
              "    .dataframe tbody tr th {\n",
              "        vertical-align: top;\n",
              "    }\n",
              "\n",
              "    .dataframe thead th {\n",
              "        text-align: right;\n",
              "    }\n",
              "</style>\n",
              "<table border=\"1\" class=\"dataframe\">\n",
              "  <thead>\n",
              "    <tr style=\"text-align: right;\">\n",
              "      <th></th>\n",
              "      <th>dataset</th>\n",
              "      <th>training_size</th>\n",
              "      <th>n_neurons</th>\n",
              "      <th>accuracy</th>\n",
              "    </tr>\n",
              "  </thead>\n",
              "  <tbody>\n",
              "    <tr>\n",
              "      <th>0</th>\n",
              "      <td>training</td>\n",
              "      <td>0.1</td>\n",
              "      <td>1</td>\n",
              "      <td>0.383333</td>\n",
              "    </tr>\n",
              "    <tr>\n",
              "      <th>1</th>\n",
              "      <td>validation</td>\n",
              "      <td>0.1</td>\n",
              "      <td>1</td>\n",
              "      <td>0.381188</td>\n",
              "    </tr>\n",
              "    <tr>\n",
              "      <th>2</th>\n",
              "      <td>training</td>\n",
              "      <td>0.1</td>\n",
              "      <td>3</td>\n",
              "      <td>0.383333</td>\n",
              "    </tr>\n",
              "    <tr>\n",
              "      <th>3</th>\n",
              "      <td>validation</td>\n",
              "      <td>0.1</td>\n",
              "      <td>3</td>\n",
              "      <td>0.381188</td>\n",
              "    </tr>\n",
              "    <tr>\n",
              "      <th>4</th>\n",
              "      <td>training</td>\n",
              "      <td>0.1</td>\n",
              "      <td>10</td>\n",
              "      <td>0.800000</td>\n",
              "    </tr>\n",
              "    <tr>\n",
              "      <th>5</th>\n",
              "      <td>validation</td>\n",
              "      <td>0.1</td>\n",
              "      <td>10</td>\n",
              "      <td>0.705446</td>\n",
              "    </tr>\n",
              "    <tr>\n",
              "      <th>6</th>\n",
              "      <td>training</td>\n",
              "      <td>0.1</td>\n",
              "      <td>20</td>\n",
              "      <td>0.683333</td>\n",
              "    </tr>\n",
              "    <tr>\n",
              "      <th>7</th>\n",
              "      <td>validation</td>\n",
              "      <td>0.1</td>\n",
              "      <td>20</td>\n",
              "      <td>0.559406</td>\n",
              "    </tr>\n",
              "    <tr>\n",
              "      <th>8</th>\n",
              "      <td>training</td>\n",
              "      <td>0.5</td>\n",
              "      <td>1</td>\n",
              "      <td>0.718855</td>\n",
              "    </tr>\n",
              "    <tr>\n",
              "      <th>9</th>\n",
              "      <td>validation</td>\n",
              "      <td>0.5</td>\n",
              "      <td>1</td>\n",
              "      <td>0.742574</td>\n",
              "    </tr>\n",
              "    <tr>\n",
              "      <th>10</th>\n",
              "      <td>training</td>\n",
              "      <td>0.5</td>\n",
              "      <td>3</td>\n",
              "      <td>0.388889</td>\n",
              "    </tr>\n",
              "    <tr>\n",
              "      <th>11</th>\n",
              "      <td>validation</td>\n",
              "      <td>0.5</td>\n",
              "      <td>3</td>\n",
              "      <td>0.423267</td>\n",
              "    </tr>\n",
              "    <tr>\n",
              "      <th>12</th>\n",
              "      <td>training</td>\n",
              "      <td>0.5</td>\n",
              "      <td>10</td>\n",
              "      <td>0.846801</td>\n",
              "    </tr>\n",
              "    <tr>\n",
              "      <th>13</th>\n",
              "      <td>validation</td>\n",
              "      <td>0.5</td>\n",
              "      <td>10</td>\n",
              "      <td>0.844059</td>\n",
              "    </tr>\n",
              "    <tr>\n",
              "      <th>14</th>\n",
              "      <td>training</td>\n",
              "      <td>0.5</td>\n",
              "      <td>20</td>\n",
              "      <td>0.673401</td>\n",
              "    </tr>\n",
              "    <tr>\n",
              "      <th>15</th>\n",
              "      <td>validation</td>\n",
              "      <td>0.5</td>\n",
              "      <td>20</td>\n",
              "      <td>0.710396</td>\n",
              "    </tr>\n",
              "    <tr>\n",
              "      <th>16</th>\n",
              "      <td>training</td>\n",
              "      <td>1.0</td>\n",
              "      <td>1</td>\n",
              "      <td>0.390325</td>\n",
              "    </tr>\n",
              "    <tr>\n",
              "      <th>17</th>\n",
              "      <td>validation</td>\n",
              "      <td>1.0</td>\n",
              "      <td>1</td>\n",
              "      <td>0.423267</td>\n",
              "    </tr>\n",
              "    <tr>\n",
              "      <th>18</th>\n",
              "      <td>training</td>\n",
              "      <td>1.0</td>\n",
              "      <td>3</td>\n",
              "      <td>0.391159</td>\n",
              "    </tr>\n",
              "    <tr>\n",
              "      <th>19</th>\n",
              "      <td>validation</td>\n",
              "      <td>1.0</td>\n",
              "      <td>3</td>\n",
              "      <td>0.423267</td>\n",
              "    </tr>\n",
              "    <tr>\n",
              "      <th>20</th>\n",
              "      <td>training</td>\n",
              "      <td>1.0</td>\n",
              "      <td>10</td>\n",
              "      <td>0.899083</td>\n",
              "    </tr>\n",
              "    <tr>\n",
              "      <th>21</th>\n",
              "      <td>validation</td>\n",
              "      <td>1.0</td>\n",
              "      <td>10</td>\n",
              "      <td>0.891089</td>\n",
              "    </tr>\n",
              "    <tr>\n",
              "      <th>22</th>\n",
              "      <td>training</td>\n",
              "      <td>1.0</td>\n",
              "      <td>20</td>\n",
              "      <td>0.908257</td>\n",
              "    </tr>\n",
              "    <tr>\n",
              "      <th>23</th>\n",
              "      <td>validation</td>\n",
              "      <td>1.0</td>\n",
              "      <td>20</td>\n",
              "      <td>0.900990</td>\n",
              "    </tr>\n",
              "  </tbody>\n",
              "</table>\n",
              "</div>"
            ],
            "text/plain": [
              "       dataset  training_size  n_neurons  accuracy\n",
              "0     training            0.1          1  0.383333\n",
              "1   validation            0.1          1  0.381188\n",
              "2     training            0.1          3  0.383333\n",
              "3   validation            0.1          3  0.381188\n",
              "4     training            0.1         10  0.800000\n",
              "5   validation            0.1         10  0.705446\n",
              "6     training            0.1         20  0.683333\n",
              "7   validation            0.1         20  0.559406\n",
              "8     training            0.5          1  0.718855\n",
              "9   validation            0.5          1  0.742574\n",
              "10    training            0.5          3  0.388889\n",
              "11  validation            0.5          3  0.423267\n",
              "12    training            0.5         10  0.846801\n",
              "13  validation            0.5         10  0.844059\n",
              "14    training            0.5         20  0.673401\n",
              "15  validation            0.5         20  0.710396\n",
              "16    training            1.0          1  0.390325\n",
              "17  validation            1.0          1  0.423267\n",
              "18    training            1.0          3  0.391159\n",
              "19  validation            1.0          3  0.423267\n",
              "20    training            1.0         10  0.899083\n",
              "21  validation            1.0         10  0.891089\n",
              "22    training            1.0         20  0.908257\n",
              "23  validation            1.0         20  0.900990"
            ]
          },
          "metadata": {
            "tags": []
          },
          "execution_count": 39
        }
      ]
    },
    {
      "cell_type": "markdown",
      "metadata": {
        "id": "7_EVOaMb9u-l"
      },
      "source": [
        "Plot accuracy vs. Number of Neurons"
      ]
    },
    {
      "cell_type": "code",
      "metadata": {
        "scrolled": false,
        "id": "IYB5ZkW89u-l",
        "colab": {
          "base_uri": "https://localhost:8080/",
          "height": 851
        },
        "outputId": "6fa507db-5339-482f-de34-bd1fc92edade"
      },
      "source": [
        "for training_size in sorted(evaluation_df.training_size.unique()):\n",
        "    fig, ax = plt.subplots(1, 1);\n",
        "    evaluation_df.query('training_size == ' + str(training_size)).groupby(['dataset']).\\\n",
        "        plot(x='n_neurons', y='accuracy', ax=ax);\n",
        "    plt.legend(['training', 'validation'], loc='upper left');\n",
        "    plt.title('Training size: ' + str(int(training_size*100)) + '%');\n",
        "    plt.ylabel('accuracy');\n",
        "    plt.ylim([0, 1]);\n",
        "    display()"
      ],
      "execution_count": null,
      "outputs": [
        {
          "output_type": "display_data",
          "data": {
            "image/png": "[encoded data removed]",
            "text/plain": [
              "<Figure size 432x288 with 1 Axes>"
            ]
          },
          "metadata": {
            "tags": [],
            "needs_background": "light"
          }
        },
        {
          "output_type": "display_data",
          "data": {
            "image/png": "[encoded data removed]",
            "text/plain": [
              "<Figure size 432x288 with 1 Axes>"
            ]
          },
          "metadata": {
            "tags": [],
            "needs_background": "light"
          }
        },
        {
          "output_type": "display_data",
          "data": {
            "image/png": "[encoded data removed]",
            "text/plain": [
              "<Figure size 432x288 with 1 Axes>"
            ]
          },
          "metadata": {
            "tags": [],
            "needs_background": "light"
          }
        }
      ]
    },
    {
      "cell_type": "markdown",
      "metadata": {
        "id": "V24tvb6Di2z6"
      },
      "source": [
        "Plot accuracy vs. training size while holding the number of neurons constant"
      ]
    },
    {
      "cell_type": "code",
      "metadata": {
        "colab": {
          "base_uri": "https://localhost:8080/",
          "height": 1000
        },
        "id": "4fqstB10i2z6",
        "outputId": "178a1845-955e-4122-a2f0-5bb81c6b39d6"
      },
      "source": [
        "for n_neurons in sorted(evaluation_df.n_neurons.unique()):\n",
        "    fig, ax = plt.subplots(1, 1);\n",
        "    evaluation_df.query('n_neurons == ' + str(n_neurons)).groupby(['dataset']).\\\n",
        "        plot(x='training_size', y='accuracy', ax=ax);\n",
        "    plt.legend(['training', 'validation'], loc='upper left');\n",
        "    plt.title('# Neurons: ' + str(n_neurons));\n",
        "    plt.ylabel('accuracy');\n",
        "    plt.ylim([0, 1]);\n",
        "    display()"
      ],
      "execution_count": null,
      "outputs": [
        {
          "output_type": "display_data",
          "data": {
            "image/png": "[encoded data removed]",
            "text/plain": [
              "<Figure size 432x288 with 1 Axes>"
            ]
          },
          "metadata": {
            "tags": [],
            "needs_background": "light"
          }
        },
        {
          "output_type": "display_data",
          "data": {
            "image/png": "[encoded data removed]",
            "text/plain": [
              "<Figure size 432x288 with 1 Axes>"
            ]
          },
          "metadata": {
            "tags": [],
            "needs_background": "light"
          }
        },
        {
          "output_type": "display_data",
          "data": {
            "image/png": "[encoded data removed]",
            "text/plain": [
              "<Figure size 432x288 with 1 Axes>"
            ]
          },
          "metadata": {
            "tags": [],
            "needs_background": "light"
          }
        },
        {
          "output_type": "display_data",
          "data": {
            "image/png": "[encoded data removed]",
            "text/plain": [
              "<Figure size 432x288 with 1 Axes>"
            ]
          },
          "metadata": {
            "tags": [],
            "needs_background": "light"
          }
        }
      ]
    },
    {
      "cell_type": "markdown",
      "metadata": {
        "id": "0q8nlbSii2z8"
      },
      "source": [
        "# Predicting on a new image downloaded from the intenet"
      ]
    },
    {
      "cell_type": "markdown",
      "metadata": {
        "id": "V-DU_3zH9u-m"
      },
      "source": [
        "In the following cells, uncomment the 3 different image downloads one at a time while leaving the others commented.  Run the following prediction cells to make a prediction on the new unseen random image downloaded from the internet."
      ]
    },
    {
      "cell_type": "code",
      "metadata": {
        "id": "vfA0MSY3i20A"
      },
      "source": [
        "from PIL import Image\n",
        "import requests\n",
        "from io import BytesIO\n",
        "\n",
        "# uncomment one at a time and make a prediction\n",
        "\n",
        "# airplane\n",
        "# response = requests.get(\"http://images.all-free-download.com/images/graphicthumb/airplane_311727.jpg\")\n",
        "\n",
        "# face\n",
        "# response = requests.get(\"https://www.tugraz.at/uploads/pics/Alexander_by_Kanizaj_02.jpg\")\n",
        "\n",
        "# motorbike\n",
        "response = requests.get(\"https://www.cubomoto.co.uk/img-src/_themev2-cubomoto-1613/theme/panel-1.png\")\n",
        "\n",
        "# get the raw image data\n",
        "img = Image.open(BytesIO(response.content))"
      ],
      "execution_count": null,
      "outputs": []
    },
    {
      "cell_type": "markdown",
      "metadata": {
        "id": "Miuhi5K5i20C"
      },
      "source": [
        "We need to transform this image to grayscale and shrink it to the size that the neural network expects. We will use these steps using several packages:"
      ]
    },
    {
      "cell_type": "markdown",
      "metadata": {
        "id": "fLGQ2Ubki20C"
      },
      "source": [
        "Transform to grayscale:"
      ]
    },
    {
      "cell_type": "code",
      "metadata": {
        "colab": {
          "base_uri": "https://localhost:8080/",
          "height": 233
        },
        "id": "iHH1Uvgri20D",
        "outputId": "38e6d723-4912-4a0c-b393-a3ba3c560488"
      },
      "source": [
        "# convert to grayscale\n",
        "gray_img = np.array(img.convert('P'))\n",
        "plt.imshow(255-gray_img, 'gray');"
      ],
      "execution_count": null,
      "outputs": [
        {
          "output_type": "display_data",
          "data": {
            "image/png": "[encoded data removed]",
            "text/plain": [
              "<Figure size 432x288 with 1 Axes>"
            ]
          },
          "metadata": {
            "tags": [],
            "needs_background": "light"
          }
        }
      ]
    },
    {
      "cell_type": "markdown",
      "metadata": {
        "id": "rnOhTBvzi20G"
      },
      "source": [
        "Shrink it to 60 by 40:"
      ]
    },
    {
      "cell_type": "code",
      "metadata": {
        "colab": {
          "base_uri": "https://localhost:8080/",
          "height": 268
        },
        "id": "aRcWnUWCi20G",
        "scrolled": true,
        "outputId": "2865b63e-1d48-4a89-dfd7-8da86f1cb5fb"
      },
      "source": [
        "shrinked_img = np.array((img.resize([40, 60]).convert('P')))\n",
        "plt.imshow(shrinked_img, 'gray')\n",
        "display()"
      ],
      "execution_count": null,
      "outputs": [
        {
          "output_type": "display_data",
          "data": {
            "image/png": "[encoded data removed]",
            "text/plain": [
              "<Figure size 432x288 with 1 Axes>"
            ]
          },
          "metadata": {
            "tags": [],
            "needs_background": "light"
          }
        }
      ]
    },
    {
      "cell_type": "markdown",
      "metadata": {
        "id": "eUeZomizi20J"
      },
      "source": [
        "Flatten it and put it in a Spark dataframe:"
      ]
    },
    {
      "cell_type": "code",
      "metadata": {
        "id": "Gd5LyoE4i20J"
      },
      "source": [
        "from pyspark.ml.linalg import Vectors\n",
        "new_image = shrinked_img.flatten()\n",
        "new_img_df = spark.createDataFrame([[Vectors.dense(new_image)]], ['raw_pixels'])"
      ],
      "execution_count": null,
      "outputs": []
    },
    {
      "cell_type": "code",
      "metadata": {
        "colab": {
          "base_uri": "https://localhost:8080/",
          "height": 268
        },
        "id": "RvmbfqeXi20M",
        "scrolled": false,
        "outputId": "8a777b86-f3ea-40f1-b65e-b04d4219a770"
      },
      "source": [
        "display_first_as_img(new_img_df)"
      ],
      "execution_count": null,
      "outputs": [
        {
          "output_type": "display_data",
          "data": {
            "image/png": "[encoded data removed]",
            "text/plain": [
              "<Figure size 432x288 with 1 Axes>"
            ]
          },
          "metadata": {
            "tags": [],
            "needs_background": "light"
          }
        }
      ]
    },
    {
      "cell_type": "markdown",
      "metadata": {
        "id": "Mcpy3BBAi20O"
      },
      "source": [
        "Now `new_img_df` has one image"
      ]
    },
    {
      "cell_type": "code",
      "metadata": {
        "colab": {
          "base_uri": "https://localhost:8080/"
        },
        "id": "kCiA40RTi20O",
        "scrolled": true,
        "outputId": "40652251-0640-4b6b-cecd-eb4c4c29a6c0"
      },
      "source": [
        "new_img_df.toPandas().head()"
      ],
      "execution_count": null,
      "outputs": [
        {
          "output_type": "execute_result",
          "data": {
            "text/html": [
              "<div>\n",
              "<style scoped>\n",
              "    .dataframe tbody tr th:only-of-type {\n",
              "        vertical-align: middle;\n",
              "    }\n",
              "\n",
              "    .dataframe tbody tr th {\n",
              "        vertical-align: top;\n",
              "    }\n",
              "\n",
              "    .dataframe thead th {\n",
              "        text-align: right;\n",
              "    }\n",
              "</style>\n",
              "<table border=\"1\" class=\"dataframe\">\n",
              "  <thead>\n",
              "    <tr style=\"text-align: right;\">\n",
              "      <th></th>\n",
              "      <th>raw_pixels</th>\n",
              "    </tr>\n",
              "  </thead>\n",
              "  <tbody>\n",
              "    <tr>\n",
              "      <th>0</th>\n",
              "      <td>[0.0, 0.0, 0.0, 0.0, 0.0, 0.0, 0.0, 0.0, 0.0, ...</td>\n",
              "    </tr>\n",
              "  </tbody>\n",
              "</table>\n",
              "</div>"
            ],
            "text/plain": [
              "                                          raw_pixels\n",
              "0  [0.0, 0.0, 0.0, 0.0, 0.0, 0.0, 0.0, 0.0, 0.0, ..."
            ]
          },
          "metadata": {
            "tags": []
          },
          "execution_count": 47
        }
      ]
    },
    {
      "cell_type": "markdown",
      "metadata": {
        "id": "_JVjE4DBi20R"
      },
      "source": [
        "Use the `mlp2_model` and `new_img_df` to predict the category that the new image belongs to."
      ]
    },
    {
      "cell_type": "code",
      "metadata": {
        "colab": {
          "base_uri": "https://localhost:8080/"
        },
        "id": "6VAf2qc2i20R",
        "scrolled": true,
        "outputId": "b8338bc6-d9ed-4276-aed9-b96e2d48cbc0"
      },
      "source": [
        "mlp_simple_model.transform(new_img_df).show()"
      ],
      "execution_count": null,
      "outputs": [
        {
          "output_type": "stream",
          "text": [
            "+--------------------+--------------------+--------------------+----------+\n",
            "|          raw_pixels|       rawPrediction|         probability|prediction|\n",
            "+--------------------+--------------------+--------------------+----------+\n",
            "|[0.0,0.0,0.0,0.0,...|[176.340376313439...|[1.0,5.0901126773...|       0.0|\n",
            "+--------------------+--------------------+--------------------+----------+\n",
            "\n"
          ],
          "name": "stdout"
        }
      ]
    },
    {
      "cell_type": "code",
      "metadata": {
        "id": "F77kS2Xy9u-o",
        "colab": {
          "base_uri": "https://localhost:8080/"
        },
        "outputId": "72ef3dca-c0ca-480a-f603-8e6b39dbf1e1"
      },
      "source": [
        "# for reference\n",
        "list(enumerate(category_to_number_model.labels))"
      ],
      "execution_count": null,
      "outputs": [
        {
          "output_type": "execute_result",
          "data": {
            "text/plain": [
              "[(0, 'airplanes'), (1, 'Motorbikes'), (2, 'Faces_easy')]"
            ]
          },
          "metadata": {
            "tags": []
          },
          "execution_count": 49
        }
      ]
    }
  ]
}